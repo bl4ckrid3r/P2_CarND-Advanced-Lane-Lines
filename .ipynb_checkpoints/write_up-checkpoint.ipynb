{
 "cells": [
  {
   "cell_type": "markdown",
   "metadata": {},
   "source": [
    "---\n",
    "\n",
    "**Advanced Lane Finding Project**\n",
    "\n",
    "The goals / steps of this project are the following:\n",
    "\n",
    "* Compute the camera calibration matrix and distortion coefficients given a set of chessboard images.\n",
    "* Apply a distortion correction to raw images.\n",
    "* Use color transforms, gradients, etc., to create a thresholded binary image.\n",
    "* Apply a perspective transform to rectify binary image (\"birds-eye view\").\n",
    "* Detect lane pixels and fit to find the lane boundary.\n",
    "* Determine the curvature of the lane and vehicle position with respect to center.\n",
    "* Warp the detected lane boundaries back onto the original image.\n",
    "* Output visual display of the lane boundaries and numerical estimation of lane curvature and vehicle position.\n",
    "\n",
    "---\n",
    "\n",
    "### Writeup / README\n",
    "\n",
    "In order to build this project, I took the following steps"
   ]
  },
  {
   "cell_type": "markdown",
   "metadata": {},
   "source": [
    "## 1. Camera Calibration\n",
    "\n",
    "I used many images of a chessoard taken from different angles and by finding their corners and ampping them to an absolute grid, we came to build a calibration matrix along with the distortion coefficients. Using these, we become able to estimate the distortion of our pinhole camera, and finally apply a distortion correction to next images.\n",
    "\n",
    "[image1]: ./output_images/undistorted.png \"Undistorted\"\n",
    "[image2]: ./output_images/distorted.png \"Distorted\"\n",
    "![alt text][image1]\n",
    "![alt text][image2]"
   ]
  },
  {
   "cell_type": "markdown",
   "metadata": {},
   "source": [
    "## 2. Apply a distortion correction to test images.\n",
    "\n",
    "So now that we calculated our distortion coefficients, we are going to undistort our test image.\n",
    "\n",
    "[image2]: ./output_images/distorted_test.png \"Distorted\"\n",
    "[image1]: ./output_images/undistorted_test.png \"Undistorted\"\n",
    "\n",
    "![alt text][image1]\n",
    "![alt text][image2]"
   ]
  },
  {
   "cell_type": "markdown",
   "metadata": {},
   "source": [
    "## 3. Use color transforms, gradients, etc., to create a thresholded binary image.\n",
    "\n",
    "So this is the tricky part in the whole project. Since, it is provinding some input or intelligence to our algorithm, whether it can detect lanes and only lanes or it's easily biased by shadows and light variations. So here we tried to combine a bunch of all the filters we learned from the classroom. We applied a magnitude filter , a gradient filter on the x axis, a directon gradient filter and finally a thresholding on both saturation channel (HLS) and red channel (RGB).\n",
    "\n",
    "So you can find below the output binary:\n",
    "\n",
    "[image1]: ./output_images/thresholding.png \"Thresholded\"\n",
    "\n",
    "![alt text][image1]"
   ]
  },
  {
   "cell_type": "markdown",
   "metadata": {},
   "source": [
    "## 4. Apply a perspective transform to rectify binary image (\"birds-eye view\").\n",
    "\n",
    "In this part I made a perspective transform. So we define our transform using a source polygone and another destination polygone. In order to find the right coordinates for the source/destination polygones, I used the straight lanes image, and I kept tuning my transformation so that the birds-eye view corresponds a straight parallel lanes. \n",
    "\n",
    "This is the original undistorted image versus the warped image (birds-eye view):\n",
    "\n",
    "P.S: The provided warped image is cropped in order to keep only the region of interest for the next coming steps\n",
    "\n",
    "[image1]: ./output_images/straight_lines1.jpg\n",
    "[image2]: ./output_images/warped_rgb.png\n",
    "![alt text][image1]\n",
    "![alt text][image2]"
   ]
  },
  {
   "cell_type": "markdown",
   "metadata": {},
   "source": [
    "## 5. Detect lane pixels and fit to find the lane boundary.\n",
    "\n",
    "Once with the warped image, we immediately apply the binary transform on it. \n",
    "\n",
    "[image1]: ./output_images/warped_binary.png\n",
    "![alt text][image1]"
   ]
  },
  {
   "cell_type": "markdown",
   "metadata": {},
   "source": [
    "We crop our region of interest (lanes region)\n",
    "\n",
    "[image1]: ./output_images/cropped_warped_binary.png\n",
    "![alt text][image1]"
   ]
  },
  {
   "cell_type": "markdown",
   "metadata": {},
   "source": [
    "At this moment we sum on the y-axis in order to get our historgram pixels intesity in x-axis and therefore the starting position of our sliding windows\n",
    "\n",
    "[image1]: ./output_images/x_sum_histogram.png\n",
    "![alt text][image1]"
   ]
  },
  {
   "cell_type": "markdown",
   "metadata": {},
   "source": [
    "Now it's time to put up some sliding windows and keep searching for the areas with many pixels. In order to make it easy for helper function `find_lane_pixels` in `example.py` file, I added the following paramaters:\n",
    "\n",
    "`nwindows` : number of sliding windows<br>\n",
    "`margin` : the width of the sliding window<br>\n",
    "`perc_pixels` : the minimum percentage of the white pixels in the window to consider an update a lane position update <br>\n",
    "\n",
    "I finally go into some polynomial fitting of the averaged positions given by the sliding windows. I get the coefficients for both left and right lanes. Finally, I make a curve array of coordinates in order to trace my lanes fill the area between lanes (in the bird-eyes view)\n",
    "\n",
    "[image1]: ./output_images/lanes_fit.png\n",
    "![alt text][image1]"
   ]
  },
  {
   "cell_type": "markdown",
   "metadata": {},
   "source": [
    "## 6. Determine the curvature of the lane and vehicle position with respect to center.\n",
    "\n",
    "Now it's the easy part, we have the quadradtic coefficients of each lane from the previous parts using this formula:\n",
    "\n",
    "[image1]: ./output_images/roc.png\n",
    "![alt text][image1]\n",
    "\n",
    "\n",
    "And right after I applied the transformation from pixel to real-world.\n",
    "\n",
    "For the position of the vehicule I took the ratio between `(Center position - Left_lane_position)` and `(Right_lane_position - Left lane position)` then I substracted `0.5` and multiplied it by the `lane_width`. So a postive value indicates an offset the right and a negative value is an offset to the left."
   ]
  },
  {
   "cell_type": "markdown",
   "metadata": {},
   "source": [
    "## 7. Warp the detected lane boundaries back onto the original image.\n",
    "\n",
    "It's time to put the detections on our original undistorted image. So I warped back the detected lanes by inversing the perspective transform of the detected lanes and road.\n",
    "\n",
    "[image1]: ./output_images/unwarped_lanes_fit.png\n",
    "![alt text][image1]\n",
    "\n",
    "\n",
    "And right after I added it to the original image.\n",
    "\n",
    "[image2]: ./output_images/final_img.png\n",
    "![alt text][image2]"
   ]
  },
  {
   "cell_type": "markdown",
   "metadata": {},
   "source": [
    "## 8. Output visual display of the lane boundaries and numerical estimation of lane curvature and vehicle position.\n",
    "\n",
    "Finally, we're puuting some text (Radius of curves and Vehicle position) onto our final frame.\n",
    "\n",
    "[image1]: ./output_images/text.png\n",
    "![alt text][image1]"
   ]
  }
 ],
 "metadata": {
  "kernelspec": {
   "display_name": "Python 3",
   "language": "python",
   "name": "python3"
  },
  "language_info": {
   "codemirror_mode": {
    "name": "ipython",
    "version": 3
   },
   "file_extension": ".py",
   "mimetype": "text/x-python",
   "name": "python",
   "nbconvert_exporter": "python",
   "pygments_lexer": "ipython3",
   "version": "3.6.8"
  }
 },
 "nbformat": 4,
 "nbformat_minor": 2
}
